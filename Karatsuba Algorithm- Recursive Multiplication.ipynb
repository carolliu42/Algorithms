{
 "cells": [
  {
   "cell_type": "code",
   "execution_count": 1,
   "metadata": {
    "ExecuteTime": {
     "end_time": "2021-07-19T02:05:20.177238Z",
     "start_time": "2021-07-19T02:05:20.167975Z"
    }
   },
   "outputs": [],
   "source": [
    "def karatsuba(num1, num2):\n",
    "    num1Str, num2Str = str(num1), str(num2)\n",
    "\n",
    "    if num1Str[0] == '-': return -karatsuba(-num1, num2)\n",
    "    if num2Str[0] == '-': return -karatsuba(num1, -num2)\n",
    "\n",
    "    if num1 < 10 or num2 < 10: return num1 * num2\n",
    "    \n",
    "    maxLength = max(len(num1Str), len(num2Str))\n",
    "    num1Str = ''.join(list('0' * maxLength)[:-len(num1Str)] + list(num1Str))\n",
    "    num2Str = ''.join(list('0' * maxLength)[:-len(num2Str)] + list(num2Str))\n",
    "    \n",
    "    splitPosition = maxLength // 2\n",
    "    high1, low1 = int(num1Str[:-splitPosition]), int(num1Str[-splitPosition:])\n",
    "    high2, low2 = int(num2Str[:-splitPosition]), int(num2Str[-splitPosition:])\n",
    "    z0, z2 = karatsuba(low1, low2), karatsuba(high1, high2)\n",
    "    z1 = karatsuba((low1 + high1), (low2 + high2))\n",
    "    return z2 * 10 ** (2 * splitPosition) + (z1 - z2 - z0) * 10 ** (splitPosition) + z0"
   ]
  },
  {
   "cell_type": "code",
   "execution_count": 3,
   "metadata": {
    "ExecuteTime": {
     "end_time": "2021-07-19T02:06:49.974110Z",
     "start_time": "2021-07-19T02:06:49.966502Z"
    }
   },
   "outputs": [
    {
     "data": {
      "text/plain": [
       "8539734222673567065463550869546574495034888535765114961879601127067743044893204848617875072216249073013374895871952806582723184"
      ]
     },
     "execution_count": 3,
     "metadata": {},
     "output_type": "execute_result"
    }
   ],
   "source": [
    "karatsuba(3141592653589793238462643383279502884197169399375105820974944592,\n",
    "          2718281828459045235360287471352662497757247093699959574966967627)"
   ]
  },
  {
   "cell_type": "code",
   "execution_count": null,
   "metadata": {},
   "outputs": [],
   "source": []
  }
 ],
 "metadata": {
  "kernelspec": {
   "display_name": "Python 3",
   "language": "python",
   "name": "python3"
  },
  "language_info": {
   "codemirror_mode": {
    "name": "ipython",
    "version": 3
   },
   "file_extension": ".py",
   "mimetype": "text/x-python",
   "name": "python",
   "nbconvert_exporter": "python",
   "pygments_lexer": "ipython3",
   "version": "3.8.0"
  },
  "toc": {
   "base_numbering": 1,
   "nav_menu": {},
   "number_sections": true,
   "sideBar": true,
   "skip_h1_title": false,
   "title_cell": "Table of Contents",
   "title_sidebar": "Contents",
   "toc_cell": false,
   "toc_position": {},
   "toc_section_display": true,
   "toc_window_display": false
  },
  "varInspector": {
   "cols": {
    "lenName": 16,
    "lenType": 16,
    "lenVar": 40
   },
   "kernels_config": {
    "python": {
     "delete_cmd_postfix": "",
     "delete_cmd_prefix": "del ",
     "library": "var_list.py",
     "varRefreshCmd": "print(var_dic_list())"
    },
    "r": {
     "delete_cmd_postfix": ") ",
     "delete_cmd_prefix": "rm(",
     "library": "var_list.r",
     "varRefreshCmd": "cat(var_dic_list()) "
    }
   },
   "types_to_exclude": [
    "module",
    "function",
    "builtin_function_or_method",
    "instance",
    "_Feature"
   ],
   "window_display": false
  }
 },
 "nbformat": 4,
 "nbformat_minor": 2
}
