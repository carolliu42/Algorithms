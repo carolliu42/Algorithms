{
 "cells": [
  {
   "cell_type": "code",
   "execution_count": 1,
   "metadata": {
    "ExecuteTime": {
     "end_time": "2021-08-06T18:01:20.806413Z",
     "start_time": "2021-08-06T18:01:00.004066Z"
    }
   },
   "outputs": [
    {
     "name": "stdout",
     "output_type": "stream",
     "text": [
      "17\n"
     ]
    }
   ],
   "source": [
    "from random import choice\n",
    "from copy import deepcopy\n",
    "\n",
    "def contract(graph):\n",
    "    u = choice(list(graph.keys()))\n",
    "    v = choice(graph[u])\n",
    "    new_key = u+\"-\"+v \n",
    "    graph[new_key] = graph[u] + graph[v]\n",
    "    del graph[u]\n",
    "    del graph[v]\n",
    "    for key in graph.keys():\n",
    "        copy = graph[key][:]\n",
    "        if new_key == key:\n",
    "            for item in copy:\n",
    "                if item == u or item == v:\n",
    "                    graph[key].remove(item)\n",
    "        else:\n",
    "            for item in copy:\n",
    "                if item == u or item == v:\n",
    "                    graph[key].remove(item)\n",
    "                    graph[key].append(new_key)\n",
    "                    \n",
    "    \n",
    "def min_cut(graph):\n",
    "    n = len(graph)\n",
    "    minimum = n*(n-1)//2\n",
    "    for i in range(n):\n",
    "        copy =  deepcopy(graph)\n",
    "        while len(copy) > 2:\n",
    "            contract(copy)\n",
    "            minimum = min(minimum , len(list(copy.values())[0]))\n",
    "    return minimum\n",
    "        \n",
    "\n",
    "graph = {}\n",
    "with open('kargerMinCut.txt') as f:\n",
    "    data = f.readlines()\n",
    "    for line in data:\n",
    "        elements = list(map(str,line.split('\\t')[:-1]))\n",
    "        graph[str(elements[0])] = elements[1:]\n",
    "f.close()\n",
    "print(min_cut(graph))\n"
   ]
  },
  {
   "cell_type": "code",
   "execution_count": null,
   "metadata": {},
   "outputs": [],
   "source": []
  }
 ],
 "metadata": {
  "kernelspec": {
   "display_name": "Python 3",
   "language": "python",
   "name": "python3"
  },
  "language_info": {
   "codemirror_mode": {
    "name": "ipython",
    "version": 3
   },
   "file_extension": ".py",
   "mimetype": "text/x-python",
   "name": "python",
   "nbconvert_exporter": "python",
   "pygments_lexer": "ipython3",
   "version": "3.8.0"
  },
  "toc": {
   "base_numbering": 1,
   "nav_menu": {},
   "number_sections": true,
   "sideBar": true,
   "skip_h1_title": false,
   "title_cell": "Table of Contents",
   "title_sidebar": "Contents",
   "toc_cell": false,
   "toc_position": {},
   "toc_section_display": true,
   "toc_window_display": false
  },
  "varInspector": {
   "cols": {
    "lenName": 16,
    "lenType": 16,
    "lenVar": 40
   },
   "kernels_config": {
    "python": {
     "delete_cmd_postfix": "",
     "delete_cmd_prefix": "del ",
     "library": "var_list.py",
     "varRefreshCmd": "print(var_dic_list())"
    },
    "r": {
     "delete_cmd_postfix": ") ",
     "delete_cmd_prefix": "rm(",
     "library": "var_list.r",
     "varRefreshCmd": "cat(var_dic_list()) "
    }
   },
   "types_to_exclude": [
    "module",
    "function",
    "builtin_function_or_method",
    "instance",
    "_Feature"
   ],
   "window_display": false
  }
 },
 "nbformat": 4,
 "nbformat_minor": 2
}
